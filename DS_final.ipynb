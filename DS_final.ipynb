{
 "cells": [
  {
   "cell_type": "code",
   "execution_count": 1,
   "id": "d43189c3",
   "metadata": {},
   "outputs": [
    {
     "data": {
      "text/plain": [
       "1080000"
      ]
     },
     "execution_count": 1,
     "metadata": {},
     "output_type": "execute_result"
    }
   ],
   "source": [
    "import pandas as pd\n",
    "import numpy as np\n",
    "import matplotlib.pyplot as plt\n",
    "import seaborn as sns\n",
    "from scipy.stats import kurtosis\n",
    "from scipy.stats import skew\n",
    "from scipy import stats\n",
    "import statsmodels.api as sm\n",
    "\n",
    "df1 = pd.read_csv(\"ABgroup.csv\")\n",
    "df2 = pd.read_csv(\"Cash.csv\")\n",
    "df3 = pd.read_csv(\"Money.csv\")\n",
    "df4 = pd.read_csv(\"Cheaters.csv\")\n",
    "df5 = pd.read_csv(\"Platforms.csv\")\n",
    "\n",
    "df1.user_id.nunique()"
   ]
  },
  {
   "cell_type": "code",
   "execution_count": 2,
   "id": "a240920c",
   "metadata": {},
   "outputs": [],
   "source": [
    "df_pays = df2.merge(df3, how = 'left')\n",
    "df_pays = df_pays.groupby(['user_id']).sum()\n",
    "\n",
    "df_search = df4.loc[df4['cheaters'] > 0]\n",
    "df_search = df_search.groupby(['user_id']).sum()\n",
    "df_search.loc[df_search['cheaters'] == 8]\n",
    "\n",
    "df4 = df4.loc[df4['cheaters'] == 0]\n",
    "df4 = df4.groupby(['user_id']).sum()\n",
    "\n",
    "filter_cheaters = df4.index"
   ]
  },
  {
   "cell_type": "code",
   "execution_count": 3,
   "id": "a5fbae24",
   "metadata": {},
   "outputs": [],
   "source": [
    "plats_num = []\n",
    "for i in df5['platform']:\n",
    "    if i == 'XBox':\n",
    "        plats_num.append(1)\n",
    "    elif i == 'PC':\n",
    "        plats_num.append(2)\n",
    "    else:\n",
    "        plats_num.append(3)"
   ]
  },
  {
   "cell_type": "code",
   "execution_count": 4,
   "id": "98c7e851",
   "metadata": {},
   "outputs": [],
   "source": [
    "df5['platform_num'] = plats_num"
   ]
  },
  {
   "cell_type": "code",
   "execution_count": 5,
   "id": "78c4a843",
   "metadata": {},
   "outputs": [
    {
     "data": {
      "text/html": [
       "<div>\n",
       "<style scoped>\n",
       "    .dataframe tbody tr th:only-of-type {\n",
       "        vertical-align: middle;\n",
       "    }\n",
       "\n",
       "    .dataframe tbody tr th {\n",
       "        vertical-align: top;\n",
       "    }\n",
       "\n",
       "    .dataframe thead th {\n",
       "        text-align: right;\n",
       "    }\n",
       "</style>\n",
       "<table border=\"1\" class=\"dataframe\">\n",
       "  <thead>\n",
       "    <tr style=\"text-align: right;\">\n",
       "      <th></th>\n",
       "      <th>platform_num</th>\n",
       "    </tr>\n",
       "    <tr>\n",
       "      <th>user_id</th>\n",
       "      <th></th>\n",
       "    </tr>\n",
       "  </thead>\n",
       "  <tbody>\n",
       "  </tbody>\n",
       "</table>\n",
       "</div>"
      ],
      "text/plain": [
       "Empty DataFrame\n",
       "Columns: [platform_num]\n",
       "Index: []"
      ]
     },
     "execution_count": 5,
     "metadata": {},
     "output_type": "execute_result"
    }
   ],
   "source": [
    "df5 = df5.groupby(['user_id']).sum()\n",
    "df5.loc[(df5['platform_num'] != 8) & (df5['platform_num'] != 16) & (df5['platform_num'] != 24)]"
   ]
  },
  {
   "cell_type": "code",
   "execution_count": 6,
   "id": "3652eab4",
   "metadata": {},
   "outputs": [],
   "source": [
    "df5 = df5.loc[df5.index.isin(filter_cheaters)]\n",
    "\n",
    "filter_xbox = df5.loc[df5['platform_num'] == 8]\n",
    "filter_xbox = filter_xbox.index\n",
    "filter_pc = df5.loc[df5['platform_num'] == 16]\n",
    "filter_pc = filter_pc.index\n",
    "filter_ps4 = df5.loc[df5['platform_num'] == 24]\n",
    "filter_ps4 = filter_ps4.index"
   ]
  },
  {
   "cell_type": "code",
   "execution_count": 7,
   "id": "9c4b5a78",
   "metadata": {},
   "outputs": [],
   "source": [
    "def filters(column = 'test', filtering = filter_xbox):\n",
    "    df1_t = df1.loc[df1['group'] == column]\n",
    "    df1_test = df1_t.groupby(['user_id'])\n",
    "    df1_test = df1_test.first()\n",
    "    filter_ = df1_test.loc[df1_test.index.isin(filtering)]\n",
    "    filter_ = filter_.index\n",
    "    return filter_"
   ]
  },
  {
   "cell_type": "code",
   "execution_count": 8,
   "id": "d0bae4f7",
   "metadata": {},
   "outputs": [],
   "source": [
    "fil_t_xbox = filters(column = 'test', filtering = filter_xbox)\n",
    "fil_t_pc = filters(column = 'test', filtering = filter_pc)\n",
    "fil_t_ps4 = filters(column = 'test', filtering = filter_ps4)\n",
    "fil_c_xbox = filters(column = 'control', filtering = filter_xbox)\n",
    "fil_c_pc = filters(column = 'control', filtering = filter_pc)\n",
    "fil_c_ps4 = filters(column = 'control', filtering = filter_ps4)"
   ]
  },
  {
   "cell_type": "code",
   "execution_count": 9,
   "id": "f3aa4dc3",
   "metadata": {},
   "outputs": [],
   "source": [
    "def new_frames(filters = fil_t_xbox):\n",
    "    n_frame = df_pays.loc[df_pays.index.isin(filters)]\n",
    "    return n_frame"
   ]
  },
  {
   "cell_type": "code",
   "execution_count": 10,
   "id": "63eb87d5",
   "metadata": {},
   "outputs": [],
   "source": [
    "df_t_xbox = new_frames(filters = fil_t_xbox)\n",
    "df_t_pc = new_frames(filters = fil_t_pc)\n",
    "df_t_ps4 = new_frames(filters = fil_t_ps4)\n",
    "df_c_xbox = new_frames(filters = fil_c_xbox)\n",
    "df_c_pc = new_frames(filters = fil_c_pc)\n",
    "df_c_ps4 = new_frames(filters = fil_c_ps4)"
   ]
  },
  {
   "cell_type": "code",
   "execution_count": 11,
   "id": "6f1a04df",
   "metadata": {},
   "outputs": [],
   "source": [
    "def research_func(df = df_t_xbox, x = 'test/xbox'):\n",
    "    print('Базовые метрики для ', x)\n",
    "    print()\n",
    "    print(round(df.describe(), 2))\n",
    "    print('------------------------------------')\n",
    "    \n",
    "    print('Эксцесс ', kurtosis(df))\n",
    "    print('Ассиметрия ', skew(df))"
   ]
  },
  {
   "cell_type": "code",
   "execution_count": 12,
   "id": "17a4405b",
   "metadata": {},
   "outputs": [
    {
     "name": "stdout",
     "output_type": "stream",
     "text": [
      "Базовые метрики для  control/ps4\n",
      "\n",
      "            cash      money\n",
      "count  179804.00  179804.00\n",
      "mean     5681.94       5.74\n",
      "std      1334.39       1.87\n",
      "min        50.00       0.00\n",
      "25%      4800.00       3.98\n",
      "50%      5700.00       5.95\n",
      "75%      6600.00       6.95\n",
      "max     11600.00      14.92\n",
      "------------------------------------\n",
      "Эксцесс  [-0.01246346 -0.03658337]\n",
      "Ассиметрия  [-0.00971302  0.21783101]\n"
     ]
    }
   ],
   "source": [
    "research_func(df = df_c_ps4, x = 'control/ps4')"
   ]
  },
  {
   "cell_type": "code",
   "execution_count": 13,
   "id": "0d18c431",
   "metadata": {},
   "outputs": [
    {
     "name": "stderr",
     "output_type": "stream",
     "text": [
      "C:\\anaconda3\\lib\\site-packages\\seaborn\\distributions.py:2619: FutureWarning: `distplot` is a deprecated function and will be removed in a future version. Please adapt your code to use either `displot` (a figure-level function with similar flexibility) or `histplot` (an axes-level function for histograms).\n",
      "  warnings.warn(msg, FutureWarning)\n"
     ]
    },
    {
     "data": {
      "text/plain": [
       "Text(0.5, 1.0, 'cash')"
      ]
     },
     "execution_count": 13,
     "metadata": {},
     "output_type": "execute_result"
    },
    {
     "data": {
      "image/png": "[encoded data removed]",
      "text/plain": [
       "<Figure size 432x288 with 1 Axes>"
      ]
     },
     "metadata": {
      "needs_background": "light"
     },
     "output_type": "display_data"
    }
   ],
   "source": [
    "sns.distplot(df_c_ps4['cash'])\n",
    "plt.title('cash')"
   ]
  },
  {
   "cell_type": "code",
   "execution_count": 14,
   "id": "db759c4a",
   "metadata": {},
   "outputs": [
    {
     "name": "stderr",
     "output_type": "stream",
     "text": [
      "C:\\anaconda3\\lib\\site-packages\\seaborn\\distributions.py:2619: FutureWarning: `distplot` is a deprecated function and will be removed in a future version. Please adapt your code to use either `displot` (a figure-level function with similar flexibility) or `histplot` (an axes-level function for histograms).\n",
      "  warnings.warn(msg, FutureWarning)\n"
     ]
    },
    {
     "data": {
      "text/plain": [
       "Text(0.5, 1.0, '99 квантиль (красный)')"
      ]
     },
     "execution_count": 14,
     "metadata": {},
     "output_type": "execute_result"
    },
    {
     "data": {
      "image/png": "[encoded data removed]",
      "text/plain": [
       "<Figure size 432x288 with 1 Axes>"
      ]
     },
     "metadata": {
      "needs_background": "light"
     },
     "output_type": "display_data"
    }
   ],
   "source": [
    "level_99 = np.percentile(df_t_pc, 99)\n",
    "\n",
    "sns.distplot(df_t_pc['cash'])\n",
    "plt.axvline(x=level_99, color=\"r\", linestyle=\"-\")\n",
    "plt.title('99 квантиль (красный)')"
   ]
  },
  {
   "cell_type": "code",
   "execution_count": 15,
   "id": "954d46d3",
   "metadata": {},
   "outputs": [],
   "source": [
    "new_cheaters_test = df_t_pc[df_t_pc['cash'] > np.percentile(df_t_pc['cash'], 99)]"
   ]
  },
  {
   "cell_type": "code",
   "execution_count": 16,
   "id": "0b41f131",
   "metadata": {},
   "outputs": [],
   "source": [
    "df_t_pc = df_t_pc.drop(new_cheaters_test.index, axis = 0)"
   ]
  },
  {
   "cell_type": "code",
   "execution_count": 17,
   "id": "57b8d7af",
   "metadata": {},
   "outputs": [
    {
     "name": "stderr",
     "output_type": "stream",
     "text": [
      "C:\\anaconda3\\lib\\site-packages\\statsmodels\\graphics\\gofplots.py:993: UserWarning: marker is redundantly defined by the 'marker' keyword argument and the fmt string \"bo\" (-> marker='o'). The keyword argument will take precedence.\n",
      "  ax.plot(x, y, fmt, **plot_style)\n"
     ]
    },
    {
     "data": {
      "image/png": "[encoded data removed]",
      "text/plain": [
       "<Figure size 432x288 with 1 Axes>"
      ]
     },
     "metadata": {
      "needs_background": "light"
     },
     "output_type": "display_data"
    }
   ],
   "source": [
    "sm.qqplot(df_t_ps4['cash'], fit = True)\n",
    "plt.title(\"QQ plot\")\n",
    "plt.show()"
   ]
  },
  {
   "cell_type": "code",
   "execution_count": 18,
   "id": "2aefcebc",
   "metadata": {},
   "outputs": [
    {
     "name": "stderr",
     "output_type": "stream",
     "text": [
      "C:\\anaconda3\\lib\\site-packages\\seaborn\\distributions.py:2619: FutureWarning: `distplot` is a deprecated function and will be removed in a future version. Please adapt your code to use either `displot` (a figure-level function with similar flexibility) or `histplot` (an axes-level function for histograms).\n",
      "  warnings.warn(msg, FutureWarning)\n"
     ]
    },
    {
     "data": {
      "text/plain": [
       "Text(0.5, 1.0, '99 квантиль (красный)')"
      ]
     },
     "execution_count": 18,
     "metadata": {},
     "output_type": "execute_result"
    },
    {
     "data": {
      "image/png": "[encoded data removed]",
      "text/plain": [
       "<Figure size 432x288 with 1 Axes>"
      ]
     },
     "metadata": {
      "needs_background": "light"
     },
     "output_type": "display_data"
    }
   ],
   "source": [
    "level_99 = np.percentile(df_c_pc, 99)\n",
    "\n",
    "sns.distplot(df_c_pc['cash'])\n",
    "plt.axvline(x=level_99, color=\"r\", linestyle=\"-\")\n",
    "plt.title('99 квантиль (красный)')"
   ]
  },
  {
   "cell_type": "code",
   "execution_count": 19,
   "id": "69f63ad8",
   "metadata": {},
   "outputs": [],
   "source": [
    "new_cheaters_control = df_c_pc[df_c_pc['cash'] > np.percentile(df_c_pc['cash'], 99)]"
   ]
  },
  {
   "cell_type": "code",
   "execution_count": 20,
   "id": "97a3deb4",
   "metadata": {},
   "outputs": [],
   "source": [
    "df_c_pc = df_c_pc.drop(new_cheaters_control.index, axis = 0)"
   ]
  },
  {
   "cell_type": "code",
   "execution_count": 21,
   "id": "8861ffcc",
   "metadata": {},
   "outputs": [],
   "source": [
    "def arpu(df = df_t_xbox):\n",
    "    x = round(df['money'].sum() / df['money'].count(), 3)\n",
    "    return x"
   ]
  },
  {
   "cell_type": "code",
   "execution_count": 22,
   "id": "291a5c2c",
   "metadata": {},
   "outputs": [],
   "source": [
    "arpu_t_xbox = arpu() # 6.133\n",
    "arpu_t_pc = arpu(df = df_t_pc) # 6.234\n",
    "arpu_t_ps4 = arpu(df = df_t_ps4) # 6.085\n",
    "arpu_c_xbox = arpu(df = df_c_xbox) # 6.104\n",
    "arpu_c_pc = arpu(df = df_c_pc) # 5.617\n",
    "arpu_c_ps4 = arpu(df = df_c_ps4) # 5.738"
   ]
  },
  {
   "cell_type": "code",
   "execution_count": 23,
   "id": "0a01e30c",
   "metadata": {},
   "outputs": [],
   "source": [
    "def arppu(df = df_t_xbox):\n",
    "    y = round(df['money'].sum() / df.query('money != 0')['money'].count(), 3)\n",
    "    return y"
   ]
  },
  {
   "cell_type": "code",
   "execution_count": 24,
   "id": "d42312a0",
   "metadata": {},
   "outputs": [],
   "source": [
    "arppu_t_xbox = arppu() # 6.134\n",
    "arppu_t_pc = arppu(df = df_t_pc) # 6.235\n",
    "arppu_t_ps4 = arppu(df = df_t_ps4) # 6.086\n",
    "arppu_c_xbox = arppu(df = df_c_xbox) # 6.104\n",
    "arppu_c_pc = arppu(df = df_c_pc) # 5.62\n",
    "arppu_c_ps4 = arppu(df = df_c_ps4) # 5.739"
   ]
  },
  {
   "cell_type": "code",
   "execution_count": 25,
   "id": "c9556470",
   "metadata": {},
   "outputs": [],
   "source": [
    "mean_t_xbox = round(df_t_xbox['cash'].mean(), 2) # 6176.4\n",
    "mean_t_pc = round(df_t_pc['cash'].mean(), 2) # 6346.51\n",
    "mean_t_ps4 = round(df_t_ps4['cash'].mean(), 2) # 6130.4\n",
    "mean_c_xbox = round(df_c_xbox['cash'].mean(), 2) # 6131.79\n",
    "mean_c_pc = round(df_c_pc['cash'].mean(), 2) # 5557.57\n",
    "mean_c_ps4 = round(df_c_ps4['cash'].mean(), 2) # 5681.94"
   ]
  },
  {
   "cell_type": "code",
   "execution_count": 26,
   "id": "438caf43",
   "metadata": {},
   "outputs": [],
   "source": [
    "def my_norm_confidence(df = df_t_xbox, column = 'cash'):\n",
    "    alpha = 0.95\n",
    "    interval = stats.norm.interval(alpha, loc = df[column].mean(), scale = df[column].std())\n",
    "    return interval"
   ]
  },
  {
   "cell_type": "code",
   "execution_count": 27,
   "id": "0ebfbf5d",
   "metadata": {},
   "outputs": [],
   "source": [
    "def basic_reaserch(df = df_t_xbox, column = 'cash'):\n",
    "    print(round(df[column].loc[(df[column] > confidence[1]) |\n",
    "                               (df[column] < confidence[0])].count() / df[column].count() * 100, 2), '% аномалий по метрике')\n",
    "    df[column].plot(figsize = (14, 7))\n",
    "    plt.axhline(y = confidence[1], color=\"g\", linestyle=\"-\")\n",
    "    plt.axhline(y = confidence[0], color=\"r\", linestyle=\"-\")\n",
    "    plt.title('Доверительный интервал')"
   ]
  },
  {
   "cell_type": "code",
   "execution_count": 28,
   "id": "00814198",
   "metadata": {},
   "outputs": [
    {
     "name": "stdout",
     "output_type": "stream",
     "text": [
      "5.82 % аномалий по метрике\n"
     ]
    },
    {
     "data": {
      "image/png": "[encoded data removed]",
      "text/plain": [
       "<Figure size 1008x504 with 1 Axes>"
      ]
     },
     "metadata": {
      "needs_background": "light"
     },
     "output_type": "display_data"
    }
   ],
   "source": [
    "confidence = my_norm_confidence(df = df_c_ps4, column = 'money')\n",
    "basic_reaserch(df = df_c_ps4, column = 'money')"
   ]
  },
  {
   "cell_type": "code",
   "execution_count": 29,
   "id": "ff60054d",
   "metadata": {},
   "outputs": [
    {
     "data": {
      "text/html": [
       "<div>\n",
       "<style scoped>\n",
       "    .dataframe tbody tr th:only-of-type {\n",
       "        vertical-align: middle;\n",
       "    }\n",
       "\n",
       "    .dataframe tbody tr th {\n",
       "        vertical-align: top;\n",
       "    }\n",
       "\n",
       "    .dataframe thead th {\n",
       "        text-align: right;\n",
       "    }\n",
       "</style>\n",
       "<table border=\"1\" class=\"dataframe\">\n",
       "  <thead>\n",
       "    <tr style=\"text-align: right;\">\n",
       "      <th></th>\n",
       "      <th>user_id</th>\n",
       "      <th>date</th>\n",
       "      <th>cash</th>\n",
       "      <th>money</th>\n",
       "    </tr>\n",
       "  </thead>\n",
       "  <tbody>\n",
       "    <tr>\n",
       "      <th>0</th>\n",
       "      <td>GGLSXL-U5BGGY</td>\n",
       "      <td>17.07.2021</td>\n",
       "      <td>200</td>\n",
       "      <td>0.00</td>\n",
       "    </tr>\n",
       "    <tr>\n",
       "      <th>1</th>\n",
       "      <td>DPWFFN-NL3VF8</td>\n",
       "      <td>16.07.2021</td>\n",
       "      <td>150</td>\n",
       "      <td>0.99</td>\n",
       "    </tr>\n",
       "    <tr>\n",
       "      <th>2</th>\n",
       "      <td>PASNNG-GVW4RR</td>\n",
       "      <td>11.07.2021</td>\n",
       "      <td>1100</td>\n",
       "      <td>0.99</td>\n",
       "    </tr>\n",
       "    <tr>\n",
       "      <th>3</th>\n",
       "      <td>4F0AW7-F40GY9</td>\n",
       "      <td>15.07.2021</td>\n",
       "      <td>1050</td>\n",
       "      <td>0.99</td>\n",
       "    </tr>\n",
       "    <tr>\n",
       "      <th>4</th>\n",
       "      <td>CEY6AF-YTSM4V</td>\n",
       "      <td>15.07.2021</td>\n",
       "      <td>150</td>\n",
       "      <td>0.99</td>\n",
       "    </tr>\n",
       "    <tr>\n",
       "      <th>...</th>\n",
       "      <td>...</td>\n",
       "      <td>...</td>\n",
       "      <td>...</td>\n",
       "      <td>...</td>\n",
       "    </tr>\n",
       "    <tr>\n",
       "      <th>8639995</th>\n",
       "      <td>OWJZJH-CNSFHZ</td>\n",
       "      <td>17.07.2021</td>\n",
       "      <td>3150</td>\n",
       "      <td>2.99</td>\n",
       "    </tr>\n",
       "    <tr>\n",
       "      <th>8639996</th>\n",
       "      <td>A6ZAWD-VD21JU</td>\n",
       "      <td>15.07.2021</td>\n",
       "      <td>200</td>\n",
       "      <td>0.00</td>\n",
       "    </tr>\n",
       "    <tr>\n",
       "      <th>8639997</th>\n",
       "      <td>L9NUIR-HM22U9</td>\n",
       "      <td>15.07.2021</td>\n",
       "      <td>200</td>\n",
       "      <td>0.00</td>\n",
       "    </tr>\n",
       "    <tr>\n",
       "      <th>8639998</th>\n",
       "      <td>0A5AY6-NB4ZIS</td>\n",
       "      <td>15.07.2021</td>\n",
       "      <td>200</td>\n",
       "      <td>0.99</td>\n",
       "    </tr>\n",
       "    <tr>\n",
       "      <th>8639999</th>\n",
       "      <td>9UT53X-2N05KE</td>\n",
       "      <td>14.07.2021</td>\n",
       "      <td>100</td>\n",
       "      <td>0.00</td>\n",
       "    </tr>\n",
       "  </tbody>\n",
       "</table>\n",
       "<p>8640000 rows × 4 columns</p>\n",
       "</div>"
      ],
      "text/plain": [
       "               user_id        date  cash  money\n",
       "0        GGLSXL-U5BGGY  17.07.2021   200   0.00\n",
       "1        DPWFFN-NL3VF8  16.07.2021   150   0.99\n",
       "2        PASNNG-GVW4RR  11.07.2021  1100   0.99\n",
       "3        4F0AW7-F40GY9  15.07.2021  1050   0.99\n",
       "4        CEY6AF-YTSM4V  15.07.2021   150   0.99\n",
       "...                ...         ...   ...    ...\n",
       "8639995  OWJZJH-CNSFHZ  17.07.2021  3150   2.99\n",
       "8639996  A6ZAWD-VD21JU  15.07.2021   200   0.00\n",
       "8639997  L9NUIR-HM22U9  15.07.2021   200   0.00\n",
       "8639998  0A5AY6-NB4ZIS  15.07.2021   200   0.99\n",
       "8639999  9UT53X-2N05KE  14.07.2021   100   0.00\n",
       "\n",
       "[8640000 rows x 4 columns]"
      ]
     },
     "execution_count": 29,
     "metadata": {},
     "output_type": "execute_result"
    }
   ],
   "source": [
    "cash = pd.read_csv(\"Cash.csv\")\n",
    "money = pd.read_csv(\"Money.csv\")\n",
    "\n",
    "df_cm = pd.merge(cash, money, on = ['user_id', 'date'])\n",
    "df_cm"
   ]
  },
  {
   "cell_type": "code",
   "execution_count": 30,
   "id": "7888b36d",
   "metadata": {},
   "outputs": [
    {
     "data": {
      "text/html": [
       "<div>\n",
       "<style scoped>\n",
       "    .dataframe tbody tr th:only-of-type {\n",
       "        vertical-align: middle;\n",
       "    }\n",
       "\n",
       "    .dataframe tbody tr th {\n",
       "        vertical-align: top;\n",
       "    }\n",
       "\n",
       "    .dataframe thead th {\n",
       "        text-align: right;\n",
       "    }\n",
       "</style>\n",
       "<table border=\"1\" class=\"dataframe\">\n",
       "  <thead>\n",
       "    <tr style=\"text-align: right;\">\n",
       "      <th></th>\n",
       "      <th>user_id</th>\n",
       "      <th>date</th>\n",
       "      <th>cash</th>\n",
       "      <th>money</th>\n",
       "      <th>group</th>\n",
       "    </tr>\n",
       "  </thead>\n",
       "  <tbody>\n",
       "    <tr>\n",
       "      <th>0</th>\n",
       "      <td>GGLSXL-U5BGGY</td>\n",
       "      <td>17.07.2021</td>\n",
       "      <td>200</td>\n",
       "      <td>0.00</td>\n",
       "      <td>control</td>\n",
       "    </tr>\n",
       "    <tr>\n",
       "      <th>1</th>\n",
       "      <td>GGLSXL-U5BGGY</td>\n",
       "      <td>11.07.2021</td>\n",
       "      <td>450</td>\n",
       "      <td>0.00</td>\n",
       "      <td>control</td>\n",
       "    </tr>\n",
       "    <tr>\n",
       "      <th>2</th>\n",
       "      <td>GGLSXL-U5BGGY</td>\n",
       "      <td>13.07.2021</td>\n",
       "      <td>100</td>\n",
       "      <td>0.99</td>\n",
       "      <td>control</td>\n",
       "    </tr>\n",
       "    <tr>\n",
       "      <th>3</th>\n",
       "      <td>GGLSXL-U5BGGY</td>\n",
       "      <td>15.07.2021</td>\n",
       "      <td>1600</td>\n",
       "      <td>0.99</td>\n",
       "      <td>control</td>\n",
       "    </tr>\n",
       "    <tr>\n",
       "      <th>4</th>\n",
       "      <td>GGLSXL-U5BGGY</td>\n",
       "      <td>10.07.2021</td>\n",
       "      <td>1450</td>\n",
       "      <td>0.99</td>\n",
       "      <td>control</td>\n",
       "    </tr>\n",
       "    <tr>\n",
       "      <th>...</th>\n",
       "      <td>...</td>\n",
       "      <td>...</td>\n",
       "      <td>...</td>\n",
       "      <td>...</td>\n",
       "      <td>...</td>\n",
       "    </tr>\n",
       "    <tr>\n",
       "      <th>8639995</th>\n",
       "      <td>L060U3-V5GD7V</td>\n",
       "      <td>10.07.2021</td>\n",
       "      <td>1100</td>\n",
       "      <td>0.99</td>\n",
       "      <td>test</td>\n",
       "    </tr>\n",
       "    <tr>\n",
       "      <th>8639996</th>\n",
       "      <td>L060U3-V5GD7V</td>\n",
       "      <td>15.07.2021</td>\n",
       "      <td>0</td>\n",
       "      <td>0.00</td>\n",
       "      <td>test</td>\n",
       "    </tr>\n",
       "    <tr>\n",
       "      <th>8639997</th>\n",
       "      <td>L060U3-V5GD7V</td>\n",
       "      <td>12.07.2021</td>\n",
       "      <td>1500</td>\n",
       "      <td>0.99</td>\n",
       "      <td>test</td>\n",
       "    </tr>\n",
       "    <tr>\n",
       "      <th>8639998</th>\n",
       "      <td>L060U3-V5GD7V</td>\n",
       "      <td>17.07.2021</td>\n",
       "      <td>500</td>\n",
       "      <td>0.00</td>\n",
       "      <td>test</td>\n",
       "    </tr>\n",
       "    <tr>\n",
       "      <th>8639999</th>\n",
       "      <td>L060U3-V5GD7V</td>\n",
       "      <td>16.07.2021</td>\n",
       "      <td>650</td>\n",
       "      <td>0.00</td>\n",
       "      <td>test</td>\n",
       "    </tr>\n",
       "  </tbody>\n",
       "</table>\n",
       "<p>8640000 rows × 5 columns</p>\n",
       "</div>"
      ],
      "text/plain": [
       "               user_id        date  cash  money    group\n",
       "0        GGLSXL-U5BGGY  17.07.2021   200   0.00  control\n",
       "1        GGLSXL-U5BGGY  11.07.2021   450   0.00  control\n",
       "2        GGLSXL-U5BGGY  13.07.2021   100   0.99  control\n",
       "3        GGLSXL-U5BGGY  15.07.2021  1600   0.99  control\n",
       "4        GGLSXL-U5BGGY  10.07.2021  1450   0.99  control\n",
       "...                ...         ...   ...    ...      ...\n",
       "8639995  L060U3-V5GD7V  10.07.2021  1100   0.99     test\n",
       "8639996  L060U3-V5GD7V  15.07.2021     0   0.00     test\n",
       "8639997  L060U3-V5GD7V  12.07.2021  1500   0.99     test\n",
       "8639998  L060U3-V5GD7V  17.07.2021   500   0.00     test\n",
       "8639999  L060U3-V5GD7V  16.07.2021   650   0.00     test\n",
       "\n",
       "[8640000 rows x 5 columns]"
      ]
     },
     "execution_count": 30,
     "metadata": {},
     "output_type": "execute_result"
    }
   ],
   "source": [
    "ABgroup = df1.groupby(['user_id'])\n",
    "df_cm = df_cm.merge(ABgroup.first(), on = 'user_id')\n",
    "df_cm"
   ]
  },
  {
   "cell_type": "code",
   "execution_count": 31,
   "id": "3c23327e",
   "metadata": {},
   "outputs": [],
   "source": [
    "Platform = pd.read_csv(\"Platforms.csv\")\n",
    "Platform = Platform.groupby(['user_id'])"
   ]
  },
  {
   "cell_type": "code",
   "execution_count": 32,
   "id": "f0f634d8",
   "metadata": {},
   "outputs": [],
   "source": [
    "df_cm = df_cm.merge(Platform.first(), on = 'user_id')\n",
    "df_BI = df_cm.set_index('user_id')"
   ]
  },
  {
   "cell_type": "code",
   "execution_count": 33,
   "id": "63b2c923",
   "metadata": {},
   "outputs": [],
   "source": [
    "fil_BI = df_t_xbox.merge(df_t_pc, how = 'outer', on = ['user_id', 'cash', 'money'])\n",
    "fil_BI = fil_BI.merge(df_t_ps4, how = 'outer', on = ['user_id', 'cash', 'money'])\n",
    "fil_BI = fil_BI.merge(df_c_xbox, how = 'outer', on = ['user_id', 'cash', 'money'])\n",
    "fil_BI = fil_BI.merge(df_c_pc, how = 'outer', on = ['user_id', 'cash', 'money'])\n",
    "fil_BI = fil_BI.merge(df_c_ps4, how = 'outer', on = ['user_id', 'cash', 'money'])"
   ]
  },
  {
   "cell_type": "code",
   "execution_count": 34,
   "id": "c050d8ce",
   "metadata": {},
   "outputs": [
    {
     "data": {
      "text/plain": [
       "Index(['000Y97-TS8SCA', '00110R-7KB5YJ', '001KO4-TM7NT3', '0020I7-N4Z2TX',\n",
       "       '0024E3-EJ8QDG', '002CEX-TOQF8H', '003B79-EY7CL8', '004VDE-TCMPTN',\n",
       "       '0050RB-U68K8F', '005BGK-Y0WALG',\n",
       "       ...\n",
       "       'ZZWUNT-1OSO1E', 'ZZY3WL-E8KKM3', 'ZZYCU5-44BKF4', 'ZZYM07-1GI4S1',\n",
       "       'ZZYV21-MZ2180', 'ZZZ2G7-CG05CT', 'ZZZ8PP-DTMHBH', 'ZZZL1P-5DBOHS',\n",
       "       'ZZZNBN-SJROHK', 'ZZZV9K-NM9B4Z'],\n",
       "      dtype='object', name='user_id', length=1076141)"
      ]
     },
     "execution_count": 34,
     "metadata": {},
     "output_type": "execute_result"
    }
   ],
   "source": [
    "fil_BI = fil_BI.index\n",
    "fil_BI"
   ]
  },
  {
   "cell_type": "code",
   "execution_count": 35,
   "id": "9517a38f",
   "metadata": {},
   "outputs": [],
   "source": [
    "df_BI = df_BI.loc[df_BI.index.isin(fil_BI)]"
   ]
  },
  {
   "cell_type": "code",
   "execution_count": 75,
   "id": "e7734fa8",
   "metadata": {},
   "outputs": [],
   "source": [
    "df_BI.to_csv('DS_final_powerbi.csv')"
   ]
  },
  {
   "cell_type": "code",
   "execution_count": null,
   "id": "91536980",
   "metadata": {},
   "outputs": [],
   "source": []
  },
  {
   "cell_type": "code",
   "execution_count": null,
   "id": "0a57a42f",
   "metadata": {},
   "outputs": [],
   "source": []
  },
  {
   "cell_type": "code",
   "execution_count": null,
   "id": "f4d09506",
   "metadata": {},
   "outputs": [],
   "source": []
  },
  {
   "cell_type": "code",
   "execution_count": null,
   "id": "0790266a",
   "metadata": {},
   "outputs": [],
   "source": []
  },
  {
   "cell_type": "code",
   "execution_count": null,
   "id": "6a4afe03",
   "metadata": {},
   "outputs": [],
   "source": []
  },
  {
   "cell_type": "code",
   "execution_count": null,
   "id": "a664026e",
   "metadata": {},
   "outputs": [],
   "source": []
  },
  {
   "cell_type": "code",
   "execution_count": null,
   "id": "17d7d29f",
   "metadata": {},
   "outputs": [],
   "source": []
  },
  {
   "cell_type": "code",
   "execution_count": null,
   "id": "cf4b0921",
   "metadata": {},
   "outputs": [],
   "source": []
  }
 ],
 "metadata": {
  "kernelspec": {
   "display_name": "Python 3 (ipykernel)",
   "language": "python",
   "name": "python3"
  },
  "language_info": {
   "codemirror_mode": {
    "name": "ipython",
    "version": 3
   },
   "file_extension": ".py",
   "mimetype": "text/x-python",
   "name": "python",
   "nbconvert_exporter": "python",
   "pygments_lexer": "ipython3",
   "version": "3.9.7"
  }
 },
 "nbformat": 4,
 "nbformat_minor": 5
}
